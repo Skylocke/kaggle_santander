{
 "cells": [
  {
   "cell_type": "markdown",
   "metadata": {},
   "source": [
    "# Kaggle Competition: Santander Customer Satisfaction"
   ]
  },
  {
   "cell_type": "markdown",
   "metadata": {},
   "source": [
    "Contents (not final arrangement)\n",
    "1. Abstract\n",
    "2. Introduction\n",
    "3. Data and Data Cleanup\n",
    "    - .describe()\n",
    "    - all zero columns\n",
    "    - duplicates\n",
    "    - errors\n",
    "4. Feature Exploration\n",
    "    - imp_ent_varX\n",
    "    - imp_op_varX\n",
    "    - ind_varX\n",
    "    - num_varX\n",
    "    - saldo_varX\n",
    "    - varX\n",
    "5. Feature Selection\n",
    "6. Modeling\n",
    "7. Concluding Thoughts"
   ]
  },
  {
   "cell_type": "markdown",
   "metadata": {},
   "source": [
    "## 1. Abstract\n",
    "In this Kaggle.com Competition, given the train and test datasets provided by Santander Bank, predict which of its customers, those that are represented in the test data, are unhappy with their experience based on what can be gleaned from the train data."
   ]
  },
  {
   "cell_type": "markdown",
   "metadata": {},
   "source": [
    "## 2. Introduction\n",
    "From the competition page:\n",
    "> From frontline support teams to C-suites, customer satisfaction is a key measure of success. Unhappy customers don't stick around. What's more, unhappy customers rarely voice their dissatisfaction before leaving.\n",
    "\n",
    "> Santander Bank is asking Kagglers to help them identify dissatisfied customers early in their relationship. Doing so would allow Santander to take proactive steps to improve a customer's happiness before it's too late.\n",
    "\n",
    "> In this competition, you'll work with hundreds of anonymized features to predict if a customer is satisfied or dissatisfied with their banking experience.\n",
    "\n",
    "Santander provides the data for competiting participants in two .csv files, plus an additional file to show how they expect the data to be submitted. Not having to dig for the data ourselves seems lovely, but there is a caveat here: Santander provides no context, let alone a data dictionary or code book, to accompany the data. Participants have only the feature names and the data itself--and to some degree one another despite this being a competition--to work with."
   ]
  },
  {
   "cell_type": "markdown",
   "metadata": {},
   "source": [
    "## 3. Data and Data Cleanup\n",
    "The files provided are '**train.csv**' and '**test.csv**' (with a third file, sample_submission.csv, to demonstrate in what format submitted predictions are required to be). The file 'train.csv' is for training the participant's model while 'test.csv' is what the participant has to test their models and predict responses accordingly.\n",
    "\n",
    "(By the way, you should **extract train.csv.zip and test.csv.zip** into whatever folder this .ipynb is in.)\n",
    "\n",
    "(Another by the way, the original train.csv and test.csv files began with 'ID' without an apostrophe, which made my Microsoft Excel complain because apparently a text file starting with 'ID' is the format of another file format, if there's an apostrophe before 'ID' it's there to keep Excel from complaining. This is fine up until submitting predictions to the competition, as the competition page expects no apostrophe there.)"
   ]
  },
  {
   "cell_type": "code",
   "execution_count": 3,
   "metadata": {
    "collapsed": true
   },
   "outputs": [],
   "source": [
    "# import all the things\n",
    "%matplotlib inline\n",
    "import pandas as pd\n",
    "import numpy as np\n",
    "import seaborn as sns\n",
    "import matplotlib.pyplot as plt\n",
    "sns.set(style=\"white\", color_codes=True)"
   ]
  },
  {
   "cell_type": "code",
   "execution_count": 4,
   "metadata": {
    "collapsed": false
   },
   "outputs": [
    {
     "name": "stdout",
     "output_type": "stream",
     "text": [
      "(76020, 371)\n",
      "(75818, 370)\n"
     ]
    }
   ],
   "source": [
    "santrainder = pd.read_csv('train.csv')\n",
    "santestder = pd.read_csv('test.csv')\n",
    "print santrainder.shape\n",
    "print santestder.shape"
   ]
  },
  {
   "cell_type": "markdown",
   "metadata": {},
   "source": [
    "Both **train.csv** and **test.csv** are about the same size and shape, with **train.csv** having 76,020 observations and **test.csv** having 75,818. There are 370 features to sift through, and the additional 371st column in train.csv being the response vector.\n",
    "\n",
    "For this project we focus mostly on **train.csv** as the file is what we use to train our model, but understandably the two datasets are fairly similar at a glance, with the key difference of **test.csv** not having a **response vector** (test.csv's response vector is what participants have to predict and submit for the competition).\n",
    "\n",
    "Now, looking at the features:"
   ]
  },
  {
   "cell_type": "code",
   "execution_count": 5,
   "metadata": {
    "collapsed": false
   },
   "outputs": [
    {
     "name": "stdout",
     "output_type": "stream",
     "text": [
      "Index([u'ID', u'var3', u'var15', u'imp_ent_var16_ult1',\n",
      "       u'imp_op_var39_comer_ult1', u'imp_op_var39_comer_ult3',\n",
      "       u'imp_op_var40_comer_ult1', u'imp_op_var40_comer_ult3',\n",
      "       u'imp_op_var40_efect_ult1', u'imp_op_var40_efect_ult3',\n",
      "       ...\n",
      "       u'saldo_medio_var33_hace2', u'saldo_medio_var33_hace3',\n",
      "       u'saldo_medio_var33_ult1', u'saldo_medio_var33_ult3',\n",
      "       u'saldo_medio_var44_hace2', u'saldo_medio_var44_hace3',\n",
      "       u'saldo_medio_var44_ult1', u'saldo_medio_var44_ult3', u'var38',\n",
      "       u'TARGET'],\n",
      "      dtype='object', length=371)\n"
     ]
    }
   ],
   "source": [
    "print santrainder.columns"
   ]
  },
  {
   "cell_type": "markdown",
   "metadata": {},
   "source": [
    "... We can see that it's not in English. Santander Bank is a Spanish banking entity, one the largest banks in the eurozone, and so these features are in Spanish (*abbreviated* Spanish, no less). After some competition forum scouring and translation work, we have the following translation paradigm:"
   ]
  },
  {
   "cell_type": "markdown",
   "metadata": {},
   "source": [
    "- imp_ent_varX => importe entidad => amount for the bank office\n",
    "- imp_op_varX_comer => importe opcion comercial => amount for commercial option\n",
    "- imp_sal_varX => importe salario => amount for wage\n",
    "- ind_varX_corto => indicador corto => short (time lapse?) indicator/dummy\n",
    "- ind_varX_medio => indicador medio => medium-sized (time lapse?) indicator/dummy\n",
    "- ind_varX_largo => indicador largo => long-sized (time lapse?) indicator/dummy\n",
    "- saldo_varX => saldo => balance\n",
    "- delta_imp_amort_varX_1y3 => importe amortización 1 y 3 => amount/price for redemption (?) 1 and 3\n",
    "- delta_imp_aport_varX_1y3 => importe aportación 1 y 3 => amount/price for contribution (?) 1 and 3\n",
    "- delta_imp_reemb_varX_1y3 => importe reembolso 1 y 3 => amount/price for refund 1 and 3\n",
    "- delta_imp_trasp_varX_out_1y3 => importe traspaso 1 y 3 => amount/price for transfer 1 and 3\n",
    "- imp_venta_varX => importe venta => sale fee.\n",
    "- ind_varX_emit_ult1 => indicador emitido => indicator of emission\n",
    "- ind_varX_recib_ult1 => indicador recibido => indicator of reception\n",
    "- num_varX_hace2 => número hace 2 => number [of variable X ] done two units in the past\n",
    "- num_med_varX => número medio => mean number [of variable X]\n",
    "- num_meses_varX => número de meses => number of months [for variable X]\n",
    "- saldo_medio_varX => saldo medio => average balance\n",
    "- delta_imp_venta_varX_1y3 = > importe de venta 1 y 3 => fee on sales [for variable X] 1 and 3"
   ]
  },
  {
   "cell_type": "code",
   "execution_count": 7,
   "metadata": {
    "collapsed": false
   },
   "outputs": [],
   "source": [
    "santrainder_en = pd.read_csv('train_english.csv')"
   ]
  },
  {
   "cell_type": "code",
   "execution_count": 8,
   "metadata": {
    "collapsed": false
   },
   "outputs": [
    {
     "name": "stdout",
     "output_type": "stream",
     "text": [
      "Index([u''ID', u'var3', u'var15', u'var16 entity amount last',\n",
      "       u'var39 commercial option amount ultima1',\n",
      "       u'var39 commercial option amount ultima3',\n",
      "       u'var40 commercial option amount ultima1',\n",
      "       u'var40 commercial option amount ultima3',\n",
      "       u'var40 amount effective option ultima1',\n",
      "       u'var40 amount effective option ultima3',\n",
      "       ...\n",
      "       u'var33 average balance hace2', u'var33 average balance hace3',\n",
      "       u'var33 average balance ultima1', u'var33 average balance ultima3',\n",
      "       u'var44 average balance hace2', u'var44 average balance hace3',\n",
      "       u'var44 average balance ultima1', u'var44 average balance ultima3',\n",
      "       u'var38', u'TARGET'],\n",
      "      dtype='object', length=371)\n"
     ]
    }
   ],
   "source": [
    "print santrainder_en.columns"
   ]
  },
  {
   "cell_type": "markdown",
   "metadata": {},
   "source": [
    "This does help a little but not for the majority of features. There aren't really any hints as to what different '**varX**' mean (X being any positive integer between 3 and 46) right off the bat, but when looking at the data itself it's easy enough to tell from a glance which features are **categorical or numerical** (for the most part, anyway), and it is possible to guess the nature of certain features/variables by looking at their respective **histogram**, basic **.describe()** stats (**mean, median, mode, etc.**), and/or other measures.\n",
    "\n",
    "But even without translation, it's clear there are contextually **different types of features**, which will be scrutinized further in the next section.\n",
    "\n",
    "For visual simplicity's sake, when we're looking at data we'll be using the original abbreviated Spanish data, but when it comes to context we'll use English (noting its original Spanish when needed for clarity and vice versa)."
   ]
  },
  {
   "cell_type": "markdown",
   "metadata": {},
   "source": [
    "### .describe()\n",
    "A quick look at each feature's 'describes' can provide a good amount of detail. Because I find it easier to scroll through a bunch of data like that in a spreadsheet, I exported the dataframe's .describe() as a .csv file, having transposed it so that its shape would be 371x9 instead of 9x371, and scrolled through that in Microsoft Excel."
   ]
  },
  {
   "cell_type": "code",
   "execution_count": 9,
   "metadata": {
    "collapsed": false
   },
   "outputs": [],
   "source": [
    "sandescriber = santrainder.describe().transpose()\n",
    "sandescriber.to_csv(path_or_buf=\"train_describe.csv\")"
   ]
  },
  {
   "cell_type": "code",
   "execution_count": 10,
   "metadata": {
    "collapsed": false
   },
   "outputs": [
    {
     "data": {
      "text/html": [
       "<div>\n",
       "<table border=\"1\" class=\"dataframe\">\n",
       "  <thead>\n",
       "    <tr style=\"text-align: right;\">\n",
       "      <th></th>\n",
       "      <th>count</th>\n",
       "      <th>mean</th>\n",
       "      <th>std</th>\n",
       "      <th>min</th>\n",
       "      <th>25%</th>\n",
       "      <th>50%</th>\n",
       "      <th>75%</th>\n",
       "      <th>max</th>\n",
       "    </tr>\n",
       "  </thead>\n",
       "  <tbody>\n",
       "    <tr>\n",
       "      <th>ID</th>\n",
       "      <td>76020.0</td>\n",
       "      <td>75964.050723</td>\n",
       "      <td>43781.947379</td>\n",
       "      <td>1.0</td>\n",
       "      <td>38104.75</td>\n",
       "      <td>76043.0</td>\n",
       "      <td>113748.75</td>\n",
       "      <td>151838.00</td>\n",
       "    </tr>\n",
       "    <tr>\n",
       "      <th>var3</th>\n",
       "      <td>76020.0</td>\n",
       "      <td>-1523.199277</td>\n",
       "      <td>39033.462364</td>\n",
       "      <td>-999999.0</td>\n",
       "      <td>2.00</td>\n",
       "      <td>2.0</td>\n",
       "      <td>2.00</td>\n",
       "      <td>238.00</td>\n",
       "    </tr>\n",
       "    <tr>\n",
       "      <th>var15</th>\n",
       "      <td>76020.0</td>\n",
       "      <td>33.212865</td>\n",
       "      <td>12.956486</td>\n",
       "      <td>5.0</td>\n",
       "      <td>23.00</td>\n",
       "      <td>28.0</td>\n",
       "      <td>40.00</td>\n",
       "      <td>105.00</td>\n",
       "    </tr>\n",
       "    <tr>\n",
       "      <th>imp_ent_var16_ult1</th>\n",
       "      <td>76020.0</td>\n",
       "      <td>86.208265</td>\n",
       "      <td>1614.757313</td>\n",
       "      <td>0.0</td>\n",
       "      <td>0.00</td>\n",
       "      <td>0.0</td>\n",
       "      <td>0.00</td>\n",
       "      <td>210000.00</td>\n",
       "    </tr>\n",
       "    <tr>\n",
       "      <th>imp_op_var39_comer_ult1</th>\n",
       "      <td>76020.0</td>\n",
       "      <td>72.363067</td>\n",
       "      <td>339.315831</td>\n",
       "      <td>0.0</td>\n",
       "      <td>0.00</td>\n",
       "      <td>0.0</td>\n",
       "      <td>0.00</td>\n",
       "      <td>12888.03</td>\n",
       "    </tr>\n",
       "  </tbody>\n",
       "</table>\n",
       "</div>"
      ],
      "text/plain": [
       "                           count          mean           std       min  \\\n",
       "ID                       76020.0  75964.050723  43781.947379       1.0   \n",
       "var3                     76020.0  -1523.199277  39033.462364 -999999.0   \n",
       "var15                    76020.0     33.212865     12.956486       5.0   \n",
       "imp_ent_var16_ult1       76020.0     86.208265   1614.757313       0.0   \n",
       "imp_op_var39_comer_ult1  76020.0     72.363067    339.315831       0.0   \n",
       "\n",
       "                              25%      50%        75%        max  \n",
       "ID                       38104.75  76043.0  113748.75  151838.00  \n",
       "var3                         2.00      2.0       2.00     238.00  \n",
       "var15                       23.00     28.0      40.00     105.00  \n",
       "imp_ent_var16_ult1           0.00      0.0       0.00  210000.00  \n",
       "imp_op_var39_comer_ult1      0.00      0.0       0.00   12888.03  "
      ]
     },
     "execution_count": 10,
     "metadata": {},
     "output_type": "execute_result"
    }
   ],
   "source": [
    "sandescriber.head()"
   ]
  },
  {
   "cell_type": "markdown",
   "metadata": {},
   "source": [
    "### all zero columns\n",
    "But data exploration in .ipynb is doable. The following is code I used to determine which features are most definitely useless:"
   ]
  },
  {
   "cell_type": "code",
   "execution_count": 11,
   "metadata": {
    "collapsed": false
   },
   "outputs": [
    {
     "data": {
      "text/html": [
       "<div>\n",
       "<table border=\"1\" class=\"dataframe\">\n",
       "  <thead>\n",
       "    <tr style=\"text-align: right;\">\n",
       "      <th></th>\n",
       "      <th>count</th>\n",
       "      <th>mean</th>\n",
       "      <th>std</th>\n",
       "      <th>min</th>\n",
       "      <th>25%</th>\n",
       "      <th>50%</th>\n",
       "      <th>75%</th>\n",
       "      <th>max</th>\n",
       "    </tr>\n",
       "  </thead>\n",
       "  <tbody>\n",
       "    <tr>\n",
       "      <th>ind_var2_0</th>\n",
       "      <td>76020.0</td>\n",
       "      <td>0.0</td>\n",
       "      <td>0.0</td>\n",
       "      <td>0.0</td>\n",
       "      <td>0.0</td>\n",
       "      <td>0.0</td>\n",
       "      <td>0.0</td>\n",
       "      <td>0.0</td>\n",
       "    </tr>\n",
       "    <tr>\n",
       "      <th>ind_var2</th>\n",
       "      <td>76020.0</td>\n",
       "      <td>0.0</td>\n",
       "      <td>0.0</td>\n",
       "      <td>0.0</td>\n",
       "      <td>0.0</td>\n",
       "      <td>0.0</td>\n",
       "      <td>0.0</td>\n",
       "      <td>0.0</td>\n",
       "    </tr>\n",
       "    <tr>\n",
       "      <th>ind_var27_0</th>\n",
       "      <td>76020.0</td>\n",
       "      <td>0.0</td>\n",
       "      <td>0.0</td>\n",
       "      <td>0.0</td>\n",
       "      <td>0.0</td>\n",
       "      <td>0.0</td>\n",
       "      <td>0.0</td>\n",
       "      <td>0.0</td>\n",
       "    </tr>\n",
       "    <tr>\n",
       "      <th>ind_var28_0</th>\n",
       "      <td>76020.0</td>\n",
       "      <td>0.0</td>\n",
       "      <td>0.0</td>\n",
       "      <td>0.0</td>\n",
       "      <td>0.0</td>\n",
       "      <td>0.0</td>\n",
       "      <td>0.0</td>\n",
       "      <td>0.0</td>\n",
       "    </tr>\n",
       "    <tr>\n",
       "      <th>ind_var28</th>\n",
       "      <td>76020.0</td>\n",
       "      <td>0.0</td>\n",
       "      <td>0.0</td>\n",
       "      <td>0.0</td>\n",
       "      <td>0.0</td>\n",
       "      <td>0.0</td>\n",
       "      <td>0.0</td>\n",
       "      <td>0.0</td>\n",
       "    </tr>\n",
       "    <tr>\n",
       "      <th>ind_var27</th>\n",
       "      <td>76020.0</td>\n",
       "      <td>0.0</td>\n",
       "      <td>0.0</td>\n",
       "      <td>0.0</td>\n",
       "      <td>0.0</td>\n",
       "      <td>0.0</td>\n",
       "      <td>0.0</td>\n",
       "      <td>0.0</td>\n",
       "    </tr>\n",
       "    <tr>\n",
       "      <th>ind_var41</th>\n",
       "      <td>76020.0</td>\n",
       "      <td>0.0</td>\n",
       "      <td>0.0</td>\n",
       "      <td>0.0</td>\n",
       "      <td>0.0</td>\n",
       "      <td>0.0</td>\n",
       "      <td>0.0</td>\n",
       "      <td>0.0</td>\n",
       "    </tr>\n",
       "    <tr>\n",
       "      <th>ind_var46_0</th>\n",
       "      <td>76020.0</td>\n",
       "      <td>0.0</td>\n",
       "      <td>0.0</td>\n",
       "      <td>0.0</td>\n",
       "      <td>0.0</td>\n",
       "      <td>0.0</td>\n",
       "      <td>0.0</td>\n",
       "      <td>0.0</td>\n",
       "    </tr>\n",
       "    <tr>\n",
       "      <th>ind_var46</th>\n",
       "      <td>76020.0</td>\n",
       "      <td>0.0</td>\n",
       "      <td>0.0</td>\n",
       "      <td>0.0</td>\n",
       "      <td>0.0</td>\n",
       "      <td>0.0</td>\n",
       "      <td>0.0</td>\n",
       "      <td>0.0</td>\n",
       "    </tr>\n",
       "    <tr>\n",
       "      <th>num_var27_0</th>\n",
       "      <td>76020.0</td>\n",
       "      <td>0.0</td>\n",
       "      <td>0.0</td>\n",
       "      <td>0.0</td>\n",
       "      <td>0.0</td>\n",
       "      <td>0.0</td>\n",
       "      <td>0.0</td>\n",
       "      <td>0.0</td>\n",
       "    </tr>\n",
       "    <tr>\n",
       "      <th>num_var28_0</th>\n",
       "      <td>76020.0</td>\n",
       "      <td>0.0</td>\n",
       "      <td>0.0</td>\n",
       "      <td>0.0</td>\n",
       "      <td>0.0</td>\n",
       "      <td>0.0</td>\n",
       "      <td>0.0</td>\n",
       "      <td>0.0</td>\n",
       "    </tr>\n",
       "    <tr>\n",
       "      <th>num_var28</th>\n",
       "      <td>76020.0</td>\n",
       "      <td>0.0</td>\n",
       "      <td>0.0</td>\n",
       "      <td>0.0</td>\n",
       "      <td>0.0</td>\n",
       "      <td>0.0</td>\n",
       "      <td>0.0</td>\n",
       "      <td>0.0</td>\n",
       "    </tr>\n",
       "    <tr>\n",
       "      <th>num_var27</th>\n",
       "      <td>76020.0</td>\n",
       "      <td>0.0</td>\n",
       "      <td>0.0</td>\n",
       "      <td>0.0</td>\n",
       "      <td>0.0</td>\n",
       "      <td>0.0</td>\n",
       "      <td>0.0</td>\n",
       "      <td>0.0</td>\n",
       "    </tr>\n",
       "    <tr>\n",
       "      <th>num_var41</th>\n",
       "      <td>76020.0</td>\n",
       "      <td>0.0</td>\n",
       "      <td>0.0</td>\n",
       "      <td>0.0</td>\n",
       "      <td>0.0</td>\n",
       "      <td>0.0</td>\n",
       "      <td>0.0</td>\n",
       "      <td>0.0</td>\n",
       "    </tr>\n",
       "    <tr>\n",
       "      <th>num_var46_0</th>\n",
       "      <td>76020.0</td>\n",
       "      <td>0.0</td>\n",
       "      <td>0.0</td>\n",
       "      <td>0.0</td>\n",
       "      <td>0.0</td>\n",
       "      <td>0.0</td>\n",
       "      <td>0.0</td>\n",
       "      <td>0.0</td>\n",
       "    </tr>\n",
       "    <tr>\n",
       "      <th>num_var46</th>\n",
       "      <td>76020.0</td>\n",
       "      <td>0.0</td>\n",
       "      <td>0.0</td>\n",
       "      <td>0.0</td>\n",
       "      <td>0.0</td>\n",
       "      <td>0.0</td>\n",
       "      <td>0.0</td>\n",
       "      <td>0.0</td>\n",
       "    </tr>\n",
       "    <tr>\n",
       "      <th>saldo_var28</th>\n",
       "      <td>76020.0</td>\n",
       "      <td>0.0</td>\n",
       "      <td>0.0</td>\n",
       "      <td>0.0</td>\n",
       "      <td>0.0</td>\n",
       "      <td>0.0</td>\n",
       "      <td>0.0</td>\n",
       "      <td>0.0</td>\n",
       "    </tr>\n",
       "    <tr>\n",
       "      <th>saldo_var27</th>\n",
       "      <td>76020.0</td>\n",
       "      <td>0.0</td>\n",
       "      <td>0.0</td>\n",
       "      <td>0.0</td>\n",
       "      <td>0.0</td>\n",
       "      <td>0.0</td>\n",
       "      <td>0.0</td>\n",
       "      <td>0.0</td>\n",
       "    </tr>\n",
       "    <tr>\n",
       "      <th>saldo_var41</th>\n",
       "      <td>76020.0</td>\n",
       "      <td>0.0</td>\n",
       "      <td>0.0</td>\n",
       "      <td>0.0</td>\n",
       "      <td>0.0</td>\n",
       "      <td>0.0</td>\n",
       "      <td>0.0</td>\n",
       "      <td>0.0</td>\n",
       "    </tr>\n",
       "    <tr>\n",
       "      <th>saldo_var46</th>\n",
       "      <td>76020.0</td>\n",
       "      <td>0.0</td>\n",
       "      <td>0.0</td>\n",
       "      <td>0.0</td>\n",
       "      <td>0.0</td>\n",
       "      <td>0.0</td>\n",
       "      <td>0.0</td>\n",
       "      <td>0.0</td>\n",
       "    </tr>\n",
       "    <tr>\n",
       "      <th>imp_amort_var18_hace3</th>\n",
       "      <td>76020.0</td>\n",
       "      <td>0.0</td>\n",
       "      <td>0.0</td>\n",
       "      <td>0.0</td>\n",
       "      <td>0.0</td>\n",
       "      <td>0.0</td>\n",
       "      <td>0.0</td>\n",
       "      <td>0.0</td>\n",
       "    </tr>\n",
       "    <tr>\n",
       "      <th>imp_amort_var34_hace3</th>\n",
       "      <td>76020.0</td>\n",
       "      <td>0.0</td>\n",
       "      <td>0.0</td>\n",
       "      <td>0.0</td>\n",
       "      <td>0.0</td>\n",
       "      <td>0.0</td>\n",
       "      <td>0.0</td>\n",
       "      <td>0.0</td>\n",
       "    </tr>\n",
       "    <tr>\n",
       "      <th>imp_reemb_var13_hace3</th>\n",
       "      <td>76020.0</td>\n",
       "      <td>0.0</td>\n",
       "      <td>0.0</td>\n",
       "      <td>0.0</td>\n",
       "      <td>0.0</td>\n",
       "      <td>0.0</td>\n",
       "      <td>0.0</td>\n",
       "      <td>0.0</td>\n",
       "    </tr>\n",
       "    <tr>\n",
       "      <th>imp_reemb_var33_hace3</th>\n",
       "      <td>76020.0</td>\n",
       "      <td>0.0</td>\n",
       "      <td>0.0</td>\n",
       "      <td>0.0</td>\n",
       "      <td>0.0</td>\n",
       "      <td>0.0</td>\n",
       "      <td>0.0</td>\n",
       "      <td>0.0</td>\n",
       "    </tr>\n",
       "    <tr>\n",
       "      <th>imp_trasp_var17_out_hace3</th>\n",
       "      <td>76020.0</td>\n",
       "      <td>0.0</td>\n",
       "      <td>0.0</td>\n",
       "      <td>0.0</td>\n",
       "      <td>0.0</td>\n",
       "      <td>0.0</td>\n",
       "      <td>0.0</td>\n",
       "      <td>0.0</td>\n",
       "    </tr>\n",
       "    <tr>\n",
       "      <th>imp_trasp_var33_out_hace3</th>\n",
       "      <td>76020.0</td>\n",
       "      <td>0.0</td>\n",
       "      <td>0.0</td>\n",
       "      <td>0.0</td>\n",
       "      <td>0.0</td>\n",
       "      <td>0.0</td>\n",
       "      <td>0.0</td>\n",
       "      <td>0.0</td>\n",
       "    </tr>\n",
       "    <tr>\n",
       "      <th>num_var2_0_ult1</th>\n",
       "      <td>76020.0</td>\n",
       "      <td>0.0</td>\n",
       "      <td>0.0</td>\n",
       "      <td>0.0</td>\n",
       "      <td>0.0</td>\n",
       "      <td>0.0</td>\n",
       "      <td>0.0</td>\n",
       "      <td>0.0</td>\n",
       "    </tr>\n",
       "    <tr>\n",
       "      <th>num_var2_ult1</th>\n",
       "      <td>76020.0</td>\n",
       "      <td>0.0</td>\n",
       "      <td>0.0</td>\n",
       "      <td>0.0</td>\n",
       "      <td>0.0</td>\n",
       "      <td>0.0</td>\n",
       "      <td>0.0</td>\n",
       "      <td>0.0</td>\n",
       "    </tr>\n",
       "    <tr>\n",
       "      <th>num_reemb_var13_hace3</th>\n",
       "      <td>76020.0</td>\n",
       "      <td>0.0</td>\n",
       "      <td>0.0</td>\n",
       "      <td>0.0</td>\n",
       "      <td>0.0</td>\n",
       "      <td>0.0</td>\n",
       "      <td>0.0</td>\n",
       "      <td>0.0</td>\n",
       "    </tr>\n",
       "    <tr>\n",
       "      <th>num_reemb_var33_hace3</th>\n",
       "      <td>76020.0</td>\n",
       "      <td>0.0</td>\n",
       "      <td>0.0</td>\n",
       "      <td>0.0</td>\n",
       "      <td>0.0</td>\n",
       "      <td>0.0</td>\n",
       "      <td>0.0</td>\n",
       "      <td>0.0</td>\n",
       "    </tr>\n",
       "    <tr>\n",
       "      <th>num_trasp_var17_out_hace3</th>\n",
       "      <td>76020.0</td>\n",
       "      <td>0.0</td>\n",
       "      <td>0.0</td>\n",
       "      <td>0.0</td>\n",
       "      <td>0.0</td>\n",
       "      <td>0.0</td>\n",
       "      <td>0.0</td>\n",
       "      <td>0.0</td>\n",
       "    </tr>\n",
       "    <tr>\n",
       "      <th>num_trasp_var33_out_hace3</th>\n",
       "      <td>76020.0</td>\n",
       "      <td>0.0</td>\n",
       "      <td>0.0</td>\n",
       "      <td>0.0</td>\n",
       "      <td>0.0</td>\n",
       "      <td>0.0</td>\n",
       "      <td>0.0</td>\n",
       "      <td>0.0</td>\n",
       "    </tr>\n",
       "    <tr>\n",
       "      <th>saldo_var2_ult1</th>\n",
       "      <td>76020.0</td>\n",
       "      <td>0.0</td>\n",
       "      <td>0.0</td>\n",
       "      <td>0.0</td>\n",
       "      <td>0.0</td>\n",
       "      <td>0.0</td>\n",
       "      <td>0.0</td>\n",
       "      <td>0.0</td>\n",
       "    </tr>\n",
       "    <tr>\n",
       "      <th>saldo_medio_var13_medio_hace3</th>\n",
       "      <td>76020.0</td>\n",
       "      <td>0.0</td>\n",
       "      <td>0.0</td>\n",
       "      <td>0.0</td>\n",
       "      <td>0.0</td>\n",
       "      <td>0.0</td>\n",
       "      <td>0.0</td>\n",
       "      <td>0.0</td>\n",
       "    </tr>\n",
       "  </tbody>\n",
       "</table>\n",
       "</div>"
      ],
      "text/plain": [
       "                                 count  mean  std  min  25%  50%  75%  max\n",
       "ind_var2_0                     76020.0   0.0  0.0  0.0  0.0  0.0  0.0  0.0\n",
       "ind_var2                       76020.0   0.0  0.0  0.0  0.0  0.0  0.0  0.0\n",
       "ind_var27_0                    76020.0   0.0  0.0  0.0  0.0  0.0  0.0  0.0\n",
       "ind_var28_0                    76020.0   0.0  0.0  0.0  0.0  0.0  0.0  0.0\n",
       "ind_var28                      76020.0   0.0  0.0  0.0  0.0  0.0  0.0  0.0\n",
       "ind_var27                      76020.0   0.0  0.0  0.0  0.0  0.0  0.0  0.0\n",
       "ind_var41                      76020.0   0.0  0.0  0.0  0.0  0.0  0.0  0.0\n",
       "ind_var46_0                    76020.0   0.0  0.0  0.0  0.0  0.0  0.0  0.0\n",
       "ind_var46                      76020.0   0.0  0.0  0.0  0.0  0.0  0.0  0.0\n",
       "num_var27_0                    76020.0   0.0  0.0  0.0  0.0  0.0  0.0  0.0\n",
       "num_var28_0                    76020.0   0.0  0.0  0.0  0.0  0.0  0.0  0.0\n",
       "num_var28                      76020.0   0.0  0.0  0.0  0.0  0.0  0.0  0.0\n",
       "num_var27                      76020.0   0.0  0.0  0.0  0.0  0.0  0.0  0.0\n",
       "num_var41                      76020.0   0.0  0.0  0.0  0.0  0.0  0.0  0.0\n",
       "num_var46_0                    76020.0   0.0  0.0  0.0  0.0  0.0  0.0  0.0\n",
       "num_var46                      76020.0   0.0  0.0  0.0  0.0  0.0  0.0  0.0\n",
       "saldo_var28                    76020.0   0.0  0.0  0.0  0.0  0.0  0.0  0.0\n",
       "saldo_var27                    76020.0   0.0  0.0  0.0  0.0  0.0  0.0  0.0\n",
       "saldo_var41                    76020.0   0.0  0.0  0.0  0.0  0.0  0.0  0.0\n",
       "saldo_var46                    76020.0   0.0  0.0  0.0  0.0  0.0  0.0  0.0\n",
       "imp_amort_var18_hace3          76020.0   0.0  0.0  0.0  0.0  0.0  0.0  0.0\n",
       "imp_amort_var34_hace3          76020.0   0.0  0.0  0.0  0.0  0.0  0.0  0.0\n",
       "imp_reemb_var13_hace3          76020.0   0.0  0.0  0.0  0.0  0.0  0.0  0.0\n",
       "imp_reemb_var33_hace3          76020.0   0.0  0.0  0.0  0.0  0.0  0.0  0.0\n",
       "imp_trasp_var17_out_hace3      76020.0   0.0  0.0  0.0  0.0  0.0  0.0  0.0\n",
       "imp_trasp_var33_out_hace3      76020.0   0.0  0.0  0.0  0.0  0.0  0.0  0.0\n",
       "num_var2_0_ult1                76020.0   0.0  0.0  0.0  0.0  0.0  0.0  0.0\n",
       "num_var2_ult1                  76020.0   0.0  0.0  0.0  0.0  0.0  0.0  0.0\n",
       "num_reemb_var13_hace3          76020.0   0.0  0.0  0.0  0.0  0.0  0.0  0.0\n",
       "num_reemb_var33_hace3          76020.0   0.0  0.0  0.0  0.0  0.0  0.0  0.0\n",
       "num_trasp_var17_out_hace3      76020.0   0.0  0.0  0.0  0.0  0.0  0.0  0.0\n",
       "num_trasp_var33_out_hace3      76020.0   0.0  0.0  0.0  0.0  0.0  0.0  0.0\n",
       "saldo_var2_ult1                76020.0   0.0  0.0  0.0  0.0  0.0  0.0  0.0\n",
       "saldo_medio_var13_medio_hace3  76020.0   0.0  0.0  0.0  0.0  0.0  0.0  0.0"
      ]
     },
     "execution_count": 11,
     "metadata": {},
     "output_type": "execute_result"
    }
   ],
   "source": [
    "all_zero_feats = []\n",
    "\n",
    "# look for matching mins and maxes\n",
    "for index, row in sandescriber.iterrows():\n",
    "   if sandescriber.loc[index,'min'] == sandescriber.loc[index,'max']:\n",
    "    all_zero_feats.append(index)\n",
    "\n",
    "sandescriber.loc[all_zero_feats,:]"
   ]
  },
  {
   "cell_type": "markdown",
   "metadata": {},
   "source": [
    "We can see that there is a good chunk of data that obviously does nothing for prediction. If the minimum and maximum are the same (thus giving us all-zero .describe()'s), that means there isn't a range of data at all for those features. No variation, no effect on prediction. We can remove these safely before we start looking at features in depth.\n",
    "\n",
    "Our number of features now drop from 371 to 337."
   ]
  },
  {
   "cell_type": "code",
   "execution_count": 12,
   "metadata": {
    "collapsed": false
   },
   "outputs": [
    {
     "data": {
      "text/html": [
       "<div>\n",
       "<table border=\"1\" class=\"dataframe\">\n",
       "  <thead>\n",
       "    <tr style=\"text-align: right;\">\n",
       "      <th></th>\n",
       "      <th>ID</th>\n",
       "      <th>var3</th>\n",
       "      <th>var15</th>\n",
       "      <th>imp_ent_var16_ult1</th>\n",
       "      <th>imp_op_var39_comer_ult1</th>\n",
       "      <th>imp_op_var39_comer_ult3</th>\n",
       "      <th>imp_op_var40_comer_ult1</th>\n",
       "      <th>imp_op_var40_comer_ult3</th>\n",
       "      <th>imp_op_var40_efect_ult1</th>\n",
       "      <th>imp_op_var40_efect_ult3</th>\n",
       "      <th>...</th>\n",
       "      <th>saldo_medio_var33_hace2</th>\n",
       "      <th>saldo_medio_var33_hace3</th>\n",
       "      <th>saldo_medio_var33_ult1</th>\n",
       "      <th>saldo_medio_var33_ult3</th>\n",
       "      <th>saldo_medio_var44_hace2</th>\n",
       "      <th>saldo_medio_var44_hace3</th>\n",
       "      <th>saldo_medio_var44_ult1</th>\n",
       "      <th>saldo_medio_var44_ult3</th>\n",
       "      <th>var38</th>\n",
       "      <th>TARGET</th>\n",
       "    </tr>\n",
       "  </thead>\n",
       "  <tbody>\n",
       "    <tr>\n",
       "      <th>0</th>\n",
       "      <td>1</td>\n",
       "      <td>2</td>\n",
       "      <td>23</td>\n",
       "      <td>0.0</td>\n",
       "      <td>0.0</td>\n",
       "      <td>0.0</td>\n",
       "      <td>0.0</td>\n",
       "      <td>0.0</td>\n",
       "      <td>0.0</td>\n",
       "      <td>0.0</td>\n",
       "      <td>...</td>\n",
       "      <td>0.0</td>\n",
       "      <td>0.0</td>\n",
       "      <td>0.0</td>\n",
       "      <td>0.0</td>\n",
       "      <td>0.0</td>\n",
       "      <td>0.0</td>\n",
       "      <td>0.0</td>\n",
       "      <td>0.0</td>\n",
       "      <td>39205.170000</td>\n",
       "      <td>0</td>\n",
       "    </tr>\n",
       "    <tr>\n",
       "      <th>1</th>\n",
       "      <td>3</td>\n",
       "      <td>2</td>\n",
       "      <td>34</td>\n",
       "      <td>0.0</td>\n",
       "      <td>0.0</td>\n",
       "      <td>0.0</td>\n",
       "      <td>0.0</td>\n",
       "      <td>0.0</td>\n",
       "      <td>0.0</td>\n",
       "      <td>0.0</td>\n",
       "      <td>...</td>\n",
       "      <td>0.0</td>\n",
       "      <td>0.0</td>\n",
       "      <td>0.0</td>\n",
       "      <td>0.0</td>\n",
       "      <td>0.0</td>\n",
       "      <td>0.0</td>\n",
       "      <td>0.0</td>\n",
       "      <td>0.0</td>\n",
       "      <td>49278.030000</td>\n",
       "      <td>0</td>\n",
       "    </tr>\n",
       "    <tr>\n",
       "      <th>2</th>\n",
       "      <td>4</td>\n",
       "      <td>2</td>\n",
       "      <td>23</td>\n",
       "      <td>0.0</td>\n",
       "      <td>0.0</td>\n",
       "      <td>0.0</td>\n",
       "      <td>0.0</td>\n",
       "      <td>0.0</td>\n",
       "      <td>0.0</td>\n",
       "      <td>0.0</td>\n",
       "      <td>...</td>\n",
       "      <td>0.0</td>\n",
       "      <td>0.0</td>\n",
       "      <td>0.0</td>\n",
       "      <td>0.0</td>\n",
       "      <td>0.0</td>\n",
       "      <td>0.0</td>\n",
       "      <td>0.0</td>\n",
       "      <td>0.0</td>\n",
       "      <td>67333.770000</td>\n",
       "      <td>0</td>\n",
       "    </tr>\n",
       "    <tr>\n",
       "      <th>3</th>\n",
       "      <td>8</td>\n",
       "      <td>2</td>\n",
       "      <td>37</td>\n",
       "      <td>0.0</td>\n",
       "      <td>195.0</td>\n",
       "      <td>195.0</td>\n",
       "      <td>0.0</td>\n",
       "      <td>0.0</td>\n",
       "      <td>0.0</td>\n",
       "      <td>0.0</td>\n",
       "      <td>...</td>\n",
       "      <td>0.0</td>\n",
       "      <td>0.0</td>\n",
       "      <td>0.0</td>\n",
       "      <td>0.0</td>\n",
       "      <td>0.0</td>\n",
       "      <td>0.0</td>\n",
       "      <td>0.0</td>\n",
       "      <td>0.0</td>\n",
       "      <td>64007.970000</td>\n",
       "      <td>0</td>\n",
       "    </tr>\n",
       "    <tr>\n",
       "      <th>4</th>\n",
       "      <td>10</td>\n",
       "      <td>2</td>\n",
       "      <td>39</td>\n",
       "      <td>0.0</td>\n",
       "      <td>0.0</td>\n",
       "      <td>0.0</td>\n",
       "      <td>0.0</td>\n",
       "      <td>0.0</td>\n",
       "      <td>0.0</td>\n",
       "      <td>0.0</td>\n",
       "      <td>...</td>\n",
       "      <td>0.0</td>\n",
       "      <td>0.0</td>\n",
       "      <td>0.0</td>\n",
       "      <td>0.0</td>\n",
       "      <td>0.0</td>\n",
       "      <td>0.0</td>\n",
       "      <td>0.0</td>\n",
       "      <td>0.0</td>\n",
       "      <td>117310.979016</td>\n",
       "      <td>0</td>\n",
       "    </tr>\n",
       "  </tbody>\n",
       "</table>\n",
       "<p>5 rows × 337 columns</p>\n",
       "</div>"
      ],
      "text/plain": [
       "   ID  var3  var15  imp_ent_var16_ult1  imp_op_var39_comer_ult1  \\\n",
       "0   1     2     23                 0.0                      0.0   \n",
       "1   3     2     34                 0.0                      0.0   \n",
       "2   4     2     23                 0.0                      0.0   \n",
       "3   8     2     37                 0.0                    195.0   \n",
       "4  10     2     39                 0.0                      0.0   \n",
       "\n",
       "   imp_op_var39_comer_ult3  imp_op_var40_comer_ult1  imp_op_var40_comer_ult3  \\\n",
       "0                      0.0                      0.0                      0.0   \n",
       "1                      0.0                      0.0                      0.0   \n",
       "2                      0.0                      0.0                      0.0   \n",
       "3                    195.0                      0.0                      0.0   \n",
       "4                      0.0                      0.0                      0.0   \n",
       "\n",
       "   imp_op_var40_efect_ult1  imp_op_var40_efect_ult3   ...    \\\n",
       "0                      0.0                      0.0   ...     \n",
       "1                      0.0                      0.0   ...     \n",
       "2                      0.0                      0.0   ...     \n",
       "3                      0.0                      0.0   ...     \n",
       "4                      0.0                      0.0   ...     \n",
       "\n",
       "   saldo_medio_var33_hace2  saldo_medio_var33_hace3  saldo_medio_var33_ult1  \\\n",
       "0                      0.0                      0.0                     0.0   \n",
       "1                      0.0                      0.0                     0.0   \n",
       "2                      0.0                      0.0                     0.0   \n",
       "3                      0.0                      0.0                     0.0   \n",
       "4                      0.0                      0.0                     0.0   \n",
       "\n",
       "   saldo_medio_var33_ult3  saldo_medio_var44_hace2  saldo_medio_var44_hace3  \\\n",
       "0                     0.0                      0.0                      0.0   \n",
       "1                     0.0                      0.0                      0.0   \n",
       "2                     0.0                      0.0                      0.0   \n",
       "3                     0.0                      0.0                      0.0   \n",
       "4                     0.0                      0.0                      0.0   \n",
       "\n",
       "   saldo_medio_var44_ult1  saldo_medio_var44_ult3          var38  TARGET  \n",
       "0                     0.0                     0.0   39205.170000       0  \n",
       "1                     0.0                     0.0   49278.030000       0  \n",
       "2                     0.0                     0.0   67333.770000       0  \n",
       "3                     0.0                     0.0   64007.970000       0  \n",
       "4                     0.0                     0.0  117310.979016       0  \n",
       "\n",
       "[5 rows x 337 columns]"
      ]
     },
     "execution_count": 12,
     "metadata": {},
     "output_type": "execute_result"
    }
   ],
   "source": [
    "santrainder.drop(all_zero_feats, axis=1, inplace=True)\n",
    "santrainder.head()"
   ]
  },
  {
   "cell_type": "markdown",
   "metadata": {},
   "source": [
    "### duplicates\n",
    "The internet is a magical place where people share their techniques for doing stuff. Finding duplicate columns is one of those things. It's not cheeeeating. Someone else just had a [more memory efficient alternative](http://stackoverflow.com/questions/14984119/python-pandas-remove-duplicate-columns/32961145#32961145) to using df.T.drop_duplicates().T.\n",
    "\n",
    "I should probably check the test.csv data to make sure their duplicates are the same as train.csv's, but if we're training our model using train.csv anyway, those duplicates won't have an effect on predicting test.csv stuff anyway (assuming we decide to use their 'originals').\n",
    "\n",
    "We've now narrowed down our number of features from 337 to 308."
   ]
  },
  {
   "cell_type": "code",
   "execution_count": 13,
   "metadata": {
    "collapsed": false
   },
   "outputs": [
    {
     "name": "stdout",
     "output_type": "stream",
     "text": [
      "['delta_imp_reemb_var33_1y3', 'ind_var25_0', 'ind_var26', 'ind_var37_0', 'ind_var29', 'delta_num_trasp_var17_in_1y3', 'delta_imp_reemb_var17_1y3', 'num_var13_medio_0', 'ind_var32_0', 'num_var37', 'delta_num_trasp_var33_in_1y3', 'ind_var18', 'saldo_medio_var13_medio_ult1', 'ind_var29_0', 'num_var6_0', 'num_var40', 'num_var6', 'delta_num_reemb_var13_1y3', 'num_var26_0', 'ind_var13_medio', 'num_var25', 'ind_var34_0', 'num_var34', 'num_var32', 'delta_num_trasp_var33_out_1y3', 'ind_var40', 'num_var18_0', 'delta_num_trasp_var17_out_1y3', 'saldo_var29']\n"
     ]
    },
    {
     "data": {
      "text/plain": [
       "(76020, 308)"
      ]
     },
     "execution_count": 13,
     "metadata": {},
     "output_type": "execute_result"
    }
   ],
   "source": [
    "def duplicate_columns(frame):\n",
    "    groups = frame.columns.to_series().groupby(frame.dtypes).groups\n",
    "    dups = []\n",
    "    for t, v in groups.items():\n",
    "        dcols = frame[v].to_dict(orient=\"list\")\n",
    "\n",
    "        vs = dcols.values()\n",
    "        ks = dcols.keys()\n",
    "        lvs = len(vs)\n",
    "\n",
    "        for i in range(lvs):\n",
    "            for j in range(i+1,lvs):\n",
    "                if vs[i] == vs[j]: \n",
    "                    dups.append(ks[i])\n",
    "                    break\n",
    "\n",
    "    return dups\n",
    "\n",
    "dups = duplicate_columns(santrainder)\n",
    "print dups\n",
    "santrainder = santrainder.drop(dups, axis=1)\n",
    "santrainder.shape"
   ]
  },
  {
   "cell_type": "markdown",
   "metadata": {},
   "source": [
    "### errors\n",
    "The data is made up entirely of integers or floats, which implies that if there are any error codes, it's likely coded as a number. I scanned through the dataframe's .describe() once again to see if there are any mins or maxes that stand out, as without any prior knowledge of how Santander handles errors I don't actually know how approach writing code to find anomalies for me."
   ]
  },
  {
   "cell_type": "code",
   "execution_count": 14,
   "metadata": {
    "collapsed": false
   },
   "outputs": [
    {
     "name": "stdout",
     "output_type": "stream",
     "text": [
      "count     76020.000000\n",
      "mean      -1523.199277\n",
      "std       39033.462364\n",
      "min     -999999.000000\n",
      "25%           2.000000\n",
      "50%           2.000000\n",
      "75%           2.000000\n",
      "max         238.000000\n",
      "Name: var3, dtype: float64\n"
     ]
    },
    {
     "data": {
      "text/html": [
       "<div>\n",
       "<table border=\"1\" class=\"dataframe\">\n",
       "  <thead>\n",
       "    <tr style=\"text-align: right;\">\n",
       "      <th></th>\n",
       "      <th>count</th>\n",
       "      <th>mean</th>\n",
       "      <th>std</th>\n",
       "      <th>min</th>\n",
       "      <th>25%</th>\n",
       "      <th>50%</th>\n",
       "      <th>75%</th>\n",
       "      <th>max</th>\n",
       "    </tr>\n",
       "  </thead>\n",
       "  <tbody>\n",
       "    <tr>\n",
       "      <th>delta_imp_amort_var18_1y3</th>\n",
       "      <td>76020.0</td>\n",
       "      <td>2.630887e+05</td>\n",
       "      <td>5.129183e+07</td>\n",
       "      <td>0.0</td>\n",
       "      <td>0.0</td>\n",
       "      <td>0.0</td>\n",
       "      <td>0.0</td>\n",
       "      <td>1.000000e+10</td>\n",
       "    </tr>\n",
       "    <tr>\n",
       "      <th>delta_imp_amort_var34_1y3</th>\n",
       "      <td>76020.0</td>\n",
       "      <td>2.630887e+05</td>\n",
       "      <td>5.129183e+07</td>\n",
       "      <td>0.0</td>\n",
       "      <td>0.0</td>\n",
       "      <td>0.0</td>\n",
       "      <td>0.0</td>\n",
       "      <td>1.000000e+10</td>\n",
       "    </tr>\n",
       "    <tr>\n",
       "      <th>delta_imp_aport_var13_1y3</th>\n",
       "      <td>76020.0</td>\n",
       "      <td>4.867140e+07</td>\n",
       "      <td>6.959537e+08</td>\n",
       "      <td>-1.0</td>\n",
       "      <td>0.0</td>\n",
       "      <td>0.0</td>\n",
       "      <td>0.0</td>\n",
       "      <td>1.000000e+10</td>\n",
       "    </tr>\n",
       "    <tr>\n",
       "      <th>delta_imp_aport_var17_1y3</th>\n",
       "      <td>76020.0</td>\n",
       "      <td>5.130229e+06</td>\n",
       "      <td>2.264435e+08</td>\n",
       "      <td>-1.0</td>\n",
       "      <td>0.0</td>\n",
       "      <td>0.0</td>\n",
       "      <td>0.0</td>\n",
       "      <td>1.000000e+10</td>\n",
       "    </tr>\n",
       "    <tr>\n",
       "      <th>delta_imp_aport_var33_1y3</th>\n",
       "      <td>76020.0</td>\n",
       "      <td>1.315443e+05</td>\n",
       "      <td>3.626904e+07</td>\n",
       "      <td>-1.0</td>\n",
       "      <td>0.0</td>\n",
       "      <td>0.0</td>\n",
       "      <td>0.0</td>\n",
       "      <td>1.000000e+10</td>\n",
       "    </tr>\n",
       "    <tr>\n",
       "      <th>delta_imp_compra_var44_1y3</th>\n",
       "      <td>76020.0</td>\n",
       "      <td>9.208103e+06</td>\n",
       "      <td>3.033108e+08</td>\n",
       "      <td>-1.0</td>\n",
       "      <td>0.0</td>\n",
       "      <td>0.0</td>\n",
       "      <td>0.0</td>\n",
       "      <td>1.000000e+10</td>\n",
       "    </tr>\n",
       "    <tr>\n",
       "      <th>delta_imp_reemb_var13_1y3</th>\n",
       "      <td>76020.0</td>\n",
       "      <td>4.998685e+06</td>\n",
       "      <td>2.235230e+08</td>\n",
       "      <td>0.0</td>\n",
       "      <td>0.0</td>\n",
       "      <td>0.0</td>\n",
       "      <td>0.0</td>\n",
       "      <td>1.000000e+10</td>\n",
       "    </tr>\n",
       "    <tr>\n",
       "      <th>delta_imp_reemb_var17_1y3</th>\n",
       "      <td>76020.0</td>\n",
       "      <td>2.630887e+06</td>\n",
       "      <td>1.621798e+08</td>\n",
       "      <td>-1.0</td>\n",
       "      <td>0.0</td>\n",
       "      <td>0.0</td>\n",
       "      <td>0.0</td>\n",
       "      <td>1.000000e+10</td>\n",
       "    </tr>\n",
       "    <tr>\n",
       "      <th>delta_imp_reemb_var33_1y3</th>\n",
       "      <td>76020.0</td>\n",
       "      <td>1.315443e+05</td>\n",
       "      <td>3.626904e+07</td>\n",
       "      <td>0.0</td>\n",
       "      <td>0.0</td>\n",
       "      <td>0.0</td>\n",
       "      <td>0.0</td>\n",
       "      <td>1.000000e+10</td>\n",
       "    </tr>\n",
       "    <tr>\n",
       "      <th>delta_imp_trasp_var17_in_1y3</th>\n",
       "      <td>76020.0</td>\n",
       "      <td>5.261773e+05</td>\n",
       "      <td>7.253665e+07</td>\n",
       "      <td>-1.0</td>\n",
       "      <td>0.0</td>\n",
       "      <td>0.0</td>\n",
       "      <td>0.0</td>\n",
       "      <td>1.000000e+10</td>\n",
       "    </tr>\n",
       "    <tr>\n",
       "      <th>delta_imp_trasp_var17_out_1y3</th>\n",
       "      <td>76020.0</td>\n",
       "      <td>5.261773e+05</td>\n",
       "      <td>7.253665e+07</td>\n",
       "      <td>0.0</td>\n",
       "      <td>0.0</td>\n",
       "      <td>0.0</td>\n",
       "      <td>0.0</td>\n",
       "      <td>1.000000e+10</td>\n",
       "    </tr>\n",
       "    <tr>\n",
       "      <th>delta_imp_trasp_var33_in_1y3</th>\n",
       "      <td>76020.0</td>\n",
       "      <td>6.577217e+05</td>\n",
       "      <td>8.109791e+07</td>\n",
       "      <td>-1.0</td>\n",
       "      <td>0.0</td>\n",
       "      <td>0.0</td>\n",
       "      <td>0.0</td>\n",
       "      <td>1.000000e+10</td>\n",
       "    </tr>\n",
       "    <tr>\n",
       "      <th>delta_imp_trasp_var33_out_1y3</th>\n",
       "      <td>76020.0</td>\n",
       "      <td>1.315443e+05</td>\n",
       "      <td>3.626904e+07</td>\n",
       "      <td>0.0</td>\n",
       "      <td>0.0</td>\n",
       "      <td>0.0</td>\n",
       "      <td>0.0</td>\n",
       "      <td>1.000000e+10</td>\n",
       "    </tr>\n",
       "    <tr>\n",
       "      <th>delta_imp_venta_var44_1y3</th>\n",
       "      <td>76020.0</td>\n",
       "      <td>5.524862e+06</td>\n",
       "      <td>2.349869e+08</td>\n",
       "      <td>-1.0</td>\n",
       "      <td>0.0</td>\n",
       "      <td>0.0</td>\n",
       "      <td>0.0</td>\n",
       "      <td>1.000000e+10</td>\n",
       "    </tr>\n",
       "    <tr>\n",
       "      <th>delta_num_aport_var13_1y3</th>\n",
       "      <td>76020.0</td>\n",
       "      <td>4.867140e+07</td>\n",
       "      <td>6.959537e+08</td>\n",
       "      <td>-1.0</td>\n",
       "      <td>0.0</td>\n",
       "      <td>0.0</td>\n",
       "      <td>0.0</td>\n",
       "      <td>1.000000e+10</td>\n",
       "    </tr>\n",
       "    <tr>\n",
       "      <th>delta_num_aport_var17_1y3</th>\n",
       "      <td>76020.0</td>\n",
       "      <td>5.130229e+06</td>\n",
       "      <td>2.264435e+08</td>\n",
       "      <td>-1.0</td>\n",
       "      <td>0.0</td>\n",
       "      <td>0.0</td>\n",
       "      <td>0.0</td>\n",
       "      <td>1.000000e+10</td>\n",
       "    </tr>\n",
       "    <tr>\n",
       "      <th>delta_num_aport_var33_1y3</th>\n",
       "      <td>76020.0</td>\n",
       "      <td>1.315443e+05</td>\n",
       "      <td>3.626904e+07</td>\n",
       "      <td>-1.0</td>\n",
       "      <td>0.0</td>\n",
       "      <td>0.0</td>\n",
       "      <td>0.0</td>\n",
       "      <td>1.000000e+10</td>\n",
       "    </tr>\n",
       "    <tr>\n",
       "      <th>delta_num_compra_var44_1y3</th>\n",
       "      <td>76020.0</td>\n",
       "      <td>9.208103e+06</td>\n",
       "      <td>3.033108e+08</td>\n",
       "      <td>-1.0</td>\n",
       "      <td>0.0</td>\n",
       "      <td>0.0</td>\n",
       "      <td>0.0</td>\n",
       "      <td>1.000000e+10</td>\n",
       "    </tr>\n",
       "    <tr>\n",
       "      <th>delta_num_reemb_var13_1y3</th>\n",
       "      <td>76020.0</td>\n",
       "      <td>4.998685e+06</td>\n",
       "      <td>2.235230e+08</td>\n",
       "      <td>0.0</td>\n",
       "      <td>0.0</td>\n",
       "      <td>0.0</td>\n",
       "      <td>0.0</td>\n",
       "      <td>1.000000e+10</td>\n",
       "    </tr>\n",
       "    <tr>\n",
       "      <th>delta_num_reemb_var17_1y3</th>\n",
       "      <td>76020.0</td>\n",
       "      <td>2.630887e+06</td>\n",
       "      <td>1.621798e+08</td>\n",
       "      <td>-1.0</td>\n",
       "      <td>0.0</td>\n",
       "      <td>0.0</td>\n",
       "      <td>0.0</td>\n",
       "      <td>1.000000e+10</td>\n",
       "    </tr>\n",
       "    <tr>\n",
       "      <th>delta_num_reemb_var33_1y3</th>\n",
       "      <td>76020.0</td>\n",
       "      <td>1.315443e+05</td>\n",
       "      <td>3.626904e+07</td>\n",
       "      <td>0.0</td>\n",
       "      <td>0.0</td>\n",
       "      <td>0.0</td>\n",
       "      <td>0.0</td>\n",
       "      <td>1.000000e+10</td>\n",
       "    </tr>\n",
       "    <tr>\n",
       "      <th>delta_num_trasp_var17_in_1y3</th>\n",
       "      <td>76020.0</td>\n",
       "      <td>5.261773e+05</td>\n",
       "      <td>7.253665e+07</td>\n",
       "      <td>-1.0</td>\n",
       "      <td>0.0</td>\n",
       "      <td>0.0</td>\n",
       "      <td>0.0</td>\n",
       "      <td>1.000000e+10</td>\n",
       "    </tr>\n",
       "    <tr>\n",
       "      <th>delta_num_trasp_var17_out_1y3</th>\n",
       "      <td>76020.0</td>\n",
       "      <td>5.261773e+05</td>\n",
       "      <td>7.253665e+07</td>\n",
       "      <td>0.0</td>\n",
       "      <td>0.0</td>\n",
       "      <td>0.0</td>\n",
       "      <td>0.0</td>\n",
       "      <td>1.000000e+10</td>\n",
       "    </tr>\n",
       "    <tr>\n",
       "      <th>delta_num_trasp_var33_in_1y3</th>\n",
       "      <td>76020.0</td>\n",
       "      <td>6.577217e+05</td>\n",
       "      <td>8.109791e+07</td>\n",
       "      <td>-1.0</td>\n",
       "      <td>0.0</td>\n",
       "      <td>0.0</td>\n",
       "      <td>0.0</td>\n",
       "      <td>1.000000e+10</td>\n",
       "    </tr>\n",
       "    <tr>\n",
       "      <th>delta_num_trasp_var33_out_1y3</th>\n",
       "      <td>76020.0</td>\n",
       "      <td>1.315443e+05</td>\n",
       "      <td>3.626904e+07</td>\n",
       "      <td>0.0</td>\n",
       "      <td>0.0</td>\n",
       "      <td>0.0</td>\n",
       "      <td>0.0</td>\n",
       "      <td>1.000000e+10</td>\n",
       "    </tr>\n",
       "    <tr>\n",
       "      <th>delta_num_venta_var44_1y3</th>\n",
       "      <td>76020.0</td>\n",
       "      <td>5.524862e+06</td>\n",
       "      <td>2.349869e+08</td>\n",
       "      <td>-1.0</td>\n",
       "      <td>0.0</td>\n",
       "      <td>0.0</td>\n",
       "      <td>0.0</td>\n",
       "      <td>1.000000e+10</td>\n",
       "    </tr>\n",
       "  </tbody>\n",
       "</table>\n",
       "</div>"
      ],
      "text/plain": [
       "                                 count          mean           std  min  25%  \\\n",
       "delta_imp_amort_var18_1y3      76020.0  2.630887e+05  5.129183e+07  0.0  0.0   \n",
       "delta_imp_amort_var34_1y3      76020.0  2.630887e+05  5.129183e+07  0.0  0.0   \n",
       "delta_imp_aport_var13_1y3      76020.0  4.867140e+07  6.959537e+08 -1.0  0.0   \n",
       "delta_imp_aport_var17_1y3      76020.0  5.130229e+06  2.264435e+08 -1.0  0.0   \n",
       "delta_imp_aport_var33_1y3      76020.0  1.315443e+05  3.626904e+07 -1.0  0.0   \n",
       "delta_imp_compra_var44_1y3     76020.0  9.208103e+06  3.033108e+08 -1.0  0.0   \n",
       "delta_imp_reemb_var13_1y3      76020.0  4.998685e+06  2.235230e+08  0.0  0.0   \n",
       "delta_imp_reemb_var17_1y3      76020.0  2.630887e+06  1.621798e+08 -1.0  0.0   \n",
       "delta_imp_reemb_var33_1y3      76020.0  1.315443e+05  3.626904e+07  0.0  0.0   \n",
       "delta_imp_trasp_var17_in_1y3   76020.0  5.261773e+05  7.253665e+07 -1.0  0.0   \n",
       "delta_imp_trasp_var17_out_1y3  76020.0  5.261773e+05  7.253665e+07  0.0  0.0   \n",
       "delta_imp_trasp_var33_in_1y3   76020.0  6.577217e+05  8.109791e+07 -1.0  0.0   \n",
       "delta_imp_trasp_var33_out_1y3  76020.0  1.315443e+05  3.626904e+07  0.0  0.0   \n",
       "delta_imp_venta_var44_1y3      76020.0  5.524862e+06  2.349869e+08 -1.0  0.0   \n",
       "delta_num_aport_var13_1y3      76020.0  4.867140e+07  6.959537e+08 -1.0  0.0   \n",
       "delta_num_aport_var17_1y3      76020.0  5.130229e+06  2.264435e+08 -1.0  0.0   \n",
       "delta_num_aport_var33_1y3      76020.0  1.315443e+05  3.626904e+07 -1.0  0.0   \n",
       "delta_num_compra_var44_1y3     76020.0  9.208103e+06  3.033108e+08 -1.0  0.0   \n",
       "delta_num_reemb_var13_1y3      76020.0  4.998685e+06  2.235230e+08  0.0  0.0   \n",
       "delta_num_reemb_var17_1y3      76020.0  2.630887e+06  1.621798e+08 -1.0  0.0   \n",
       "delta_num_reemb_var33_1y3      76020.0  1.315443e+05  3.626904e+07  0.0  0.0   \n",
       "delta_num_trasp_var17_in_1y3   76020.0  5.261773e+05  7.253665e+07 -1.0  0.0   \n",
       "delta_num_trasp_var17_out_1y3  76020.0  5.261773e+05  7.253665e+07  0.0  0.0   \n",
       "delta_num_trasp_var33_in_1y3   76020.0  6.577217e+05  8.109791e+07 -1.0  0.0   \n",
       "delta_num_trasp_var33_out_1y3  76020.0  1.315443e+05  3.626904e+07  0.0  0.0   \n",
       "delta_num_venta_var44_1y3      76020.0  5.524862e+06  2.349869e+08 -1.0  0.0   \n",
       "\n",
       "                               50%  75%           max  \n",
       "delta_imp_amort_var18_1y3      0.0  0.0  1.000000e+10  \n",
       "delta_imp_amort_var34_1y3      0.0  0.0  1.000000e+10  \n",
       "delta_imp_aport_var13_1y3      0.0  0.0  1.000000e+10  \n",
       "delta_imp_aport_var17_1y3      0.0  0.0  1.000000e+10  \n",
       "delta_imp_aport_var33_1y3      0.0  0.0  1.000000e+10  \n",
       "delta_imp_compra_var44_1y3     0.0  0.0  1.000000e+10  \n",
       "delta_imp_reemb_var13_1y3      0.0  0.0  1.000000e+10  \n",
       "delta_imp_reemb_var17_1y3      0.0  0.0  1.000000e+10  \n",
       "delta_imp_reemb_var33_1y3      0.0  0.0  1.000000e+10  \n",
       "delta_imp_trasp_var17_in_1y3   0.0  0.0  1.000000e+10  \n",
       "delta_imp_trasp_var17_out_1y3  0.0  0.0  1.000000e+10  \n",
       "delta_imp_trasp_var33_in_1y3   0.0  0.0  1.000000e+10  \n",
       "delta_imp_trasp_var33_out_1y3  0.0  0.0  1.000000e+10  \n",
       "delta_imp_venta_var44_1y3      0.0  0.0  1.000000e+10  \n",
       "delta_num_aport_var13_1y3      0.0  0.0  1.000000e+10  \n",
       "delta_num_aport_var17_1y3      0.0  0.0  1.000000e+10  \n",
       "delta_num_aport_var33_1y3      0.0  0.0  1.000000e+10  \n",
       "delta_num_compra_var44_1y3     0.0  0.0  1.000000e+10  \n",
       "delta_num_reemb_var13_1y3      0.0  0.0  1.000000e+10  \n",
       "delta_num_reemb_var17_1y3      0.0  0.0  1.000000e+10  \n",
       "delta_num_reemb_var33_1y3      0.0  0.0  1.000000e+10  \n",
       "delta_num_trasp_var17_in_1y3   0.0  0.0  1.000000e+10  \n",
       "delta_num_trasp_var17_out_1y3  0.0  0.0  1.000000e+10  \n",
       "delta_num_trasp_var33_in_1y3   0.0  0.0  1.000000e+10  \n",
       "delta_num_trasp_var33_out_1y3  0.0  0.0  1.000000e+10  \n",
       "delta_num_venta_var44_1y3      0.0  0.0  1.000000e+10  "
      ]
     },
     "execution_count": 14,
     "metadata": {},
     "output_type": "execute_result"
    }
   ],
   "source": [
    "print sandescriber.loc['var3',:]\n",
    "sandescriber.loc['delta_imp_amort_var18_1y3':'delta_num_venta_var44_1y3',:]"
   ]
  },
  {
   "cell_type": "markdown",
   "metadata": {},
   "source": [
    "Most features don't have obvious errors, but **var3** and the **delta** features do. What's a little stranger is that the delta features seem to be either -1's, 0's, and 999999999's, but we'll go into greater detail in the next section where we explore different sets of features."
   ]
  },
  {
   "cell_type": "markdown",
   "metadata": {},
   "source": [
    "## 4. Feature Exploration"
   ]
  },
  {
   "cell_type": "markdown",
   "metadata": {},
   "source": [
    "### imp_ent_varX (amount for the bank office)\n",
    "There is only one int_ent_varX feature, and it's imp_ent_var16_ult1.\n",
    "\n",
    "[Insert elaboration here if any]"
   ]
  },
  {
   "cell_type": "code",
   "execution_count": 15,
   "metadata": {
    "collapsed": false
   },
   "outputs": [
    {
     "name": "stdout",
     "output_type": "stream",
     "text": [
      "count     76020.000000\n",
      "mean         86.208265\n",
      "std        1614.757313\n",
      "min           0.000000\n",
      "25%           0.000000\n",
      "50%           0.000000\n",
      "75%           0.000000\n",
      "max      210000.000000\n",
      "Name: imp_ent_var16_ult1, dtype: float64\n"
     ]
    },
    {
     "data": {
      "text/plain": [
       "0.0       72301\n",
       "300.0       221\n",
       "150.0       217\n",
       "600.0       172\n",
       "900.0       164\n",
       "3.0         141\n",
       "450.0       124\n",
       "60.0        123\n",
       "1500.0      119\n",
       "90.0        112\n",
       "30.0         97\n",
       "1200.0       89\n",
       "3000.0       76\n",
       "120.0        74\n",
       "15.0         65\n",
       "750.0        61\n",
       "180.0        56\n",
       "1800.0       56\n",
       "210.0        55\n",
       "360.0        46\n",
       "240.0        42\n",
       "1050.0       42\n",
       "75.0         31\n",
       "2400.0       31\n",
       "6000.0       29\n",
       "420.0        29\n",
       "2100.0       28\n",
       "270.0        25\n",
       "480.0        23\n",
       "660.0        22\n",
       "390.0        21\n",
       "45.0         21\n",
       "1350.0       21\n",
       "4500.0       19\n",
       "3600.0       19\n",
       "9000.0       19\n",
       "960.0        18\n",
       "1650.0       18\n",
       "2700.0       18\n",
       "1950.0       17\n",
       "6.0          17\n",
       "Name: imp_ent_var16_ult1, dtype: int64"
      ]
     },
     "execution_count": 15,
     "metadata": {},
     "output_type": "execute_result"
    }
   ],
   "source": [
    "print santrainder.imp_ent_var16_ult1.describe()\n",
    "santrainder.imp_ent_var16_ult1.value_counts()[0:6]"
   ]
  },
  {
   "cell_type": "markdown",
   "metadata": {},
   "source": [
    "### imp_op_varX (amount for ____ option)\n",
    "There are 15 total of these, but there are different subcategories within this feature type, penultimate suffixes either **comer** ('commercial') or **efect** ('effect'), and ultimate suffixes are **ultY** ('last', Y is either 1 or 3). The Xs in **VarX** here range from 39 to 41.\n",
    "\n",
    "[Insert elaboration here if any]"
   ]
  },
  {
   "cell_type": "code",
   "execution_count": 16,
   "metadata": {
    "collapsed": false
   },
   "outputs": [
    {
     "name": "stdout",
     "output_type": "stream",
     "text": [
      "Index([u'imp_op_var39_comer_ult1', u'imp_op_var39_comer_ult3',\n",
      "       u'imp_op_var40_comer_ult1', u'imp_op_var40_comer_ult3',\n",
      "       u'imp_op_var40_efect_ult1', u'imp_op_var40_efect_ult3',\n",
      "       u'imp_op_var40_ult1', u'imp_op_var41_comer_ult1',\n",
      "       u'imp_op_var41_comer_ult3', u'imp_op_var41_efect_ult1',\n",
      "       u'imp_op_var41_efect_ult3', u'imp_op_var41_ult1',\n",
      "       u'imp_op_var39_efect_ult1', u'imp_op_var39_efect_ult3',\n",
      "       u'imp_op_var39_ult1'],\n",
      "      dtype='object')\n"
     ]
    }
   ],
   "source": [
    "print santrainder.columns[4:19]"
   ]
  },
  {
   "cell_type": "markdown",
   "metadata": {},
   "source": [
    "### ind_varX (indicator)\n",
    "There are 67 total features that are '**indicator**' features with dummy values of either 0 or 1:"
   ]
  },
  {
   "cell_type": "code",
   "execution_count": 17,
   "metadata": {
    "collapsed": false
   },
   "outputs": [
    {
     "name": "stdout",
     "output_type": "stream",
     "text": [
      "Index([u'ind_var1_0', u'ind_var1', u'ind_var5_0', u'ind_var5', u'ind_var6_0',\n",
      "       u'ind_var6', u'ind_var8_0', u'ind_var8', u'ind_var12_0', u'ind_var12',\n",
      "       u'ind_var13_0', u'ind_var13_corto_0', u'ind_var13_corto',\n",
      "       u'ind_var13_largo_0', u'ind_var13_largo', u'ind_var13_medio_0',\n",
      "       u'ind_var13', u'ind_var14_0', u'ind_var14', u'ind_var17_0',\n",
      "       u'ind_var17', u'ind_var18_0', u'ind_var19', u'ind_var20_0',\n",
      "       u'ind_var20', u'ind_var24_0', u'ind_var24', u'ind_var25_cte',\n",
      "       u'ind_var26_0', u'ind_var26_cte', u'ind_var25', u'ind_var30_0',\n",
      "       u'ind_var30', u'ind_var31_0', u'ind_var31', u'ind_var32_cte',\n",
      "       u'ind_var32', u'ind_var33_0', u'ind_var33', u'ind_var34',\n",
      "       u'ind_var37_cte', u'ind_var37', u'ind_var39_0', u'ind_var40_0',\n",
      "       u'ind_var41_0', u'ind_var39', u'ind_var44_0', u'ind_var44',\n",
      "       u'num_var1_0', u'num_var1', u'num_var4', u'num_var5_0', u'num_var5',\n",
      "       u'num_var8_0', u'num_var8', u'num_var12_0', u'num_var12',\n",
      "       u'num_var13_0', u'num_var13_corto_0', u'num_var13_corto',\n",
      "       u'num_var13_largo_0', u'num_var13_largo', u'num_var13_medio',\n",
      "       u'num_var13', u'num_var14_0', u'num_var14', u'num_var17_0'],\n",
      "      dtype='object')\n",
      "0    75149\n",
      "1      871\n",
      "Name: ind_var1_0, dtype: int64\n",
      "0    75734\n",
      "1      286\n",
      "Name: ind_var1, dtype: int64\n"
     ]
    }
   ],
   "source": [
    "print santrainder.columns[20:87]\n",
    "print santrainder['ind_var1_0'].value_counts() # example\n",
    "print santrainder['ind_var1'].value_counts() # example"
   ]
  },
  {
   "cell_type": "markdown",
   "metadata": {},
   "source": [
    "And from these indicator features we can see that they often come in pairs of **ind_varX** and **ind_varX_0**. It's speculated that each of these indicator varXs is some sort of banking feature, service, or product, and the suffix **0** suggests an explicit opt-out of the product (vs. simply not having used the product before)"
   ]
  },
  {
   "cell_type": "markdown",
   "metadata": {},
   "source": [
    "### num_varX (number)\n",
    "There a lot of these.\n",
    "Yada yada, might be number of products, I need to look at these some more.\n",
    "Some might actually be tallies of the indicator features, which would be a lot simpler to deal with than the indicator features themselves."
   ]
  },
  {
   "cell_type": "markdown",
   "metadata": {},
   "source": [
    "### saldo_varX (balance)\n",
    "There are 71 features that are prefixed with saldo."
   ]
  },
  {
   "cell_type": "code",
   "execution_count": 18,
   "metadata": {
    "collapsed": false
   },
   "outputs": [
    {
     "name": "stdout",
     "output_type": "stream",
     "text": [
      "Index([u'ind_var1_0', u'ind_var1', u'ind_var5_0', u'ind_var5', u'ind_var6_0',\n",
      "       u'ind_var6', u'ind_var8_0', u'ind_var8', u'ind_var12_0', u'ind_var12',\n",
      "       u'ind_var13_0', u'ind_var13_corto_0', u'ind_var13_corto',\n",
      "       u'ind_var13_largo_0', u'ind_var13_largo', u'ind_var13_medio_0',\n",
      "       u'ind_var13', u'ind_var14_0', u'ind_var14', u'ind_var17_0',\n",
      "       u'ind_var17', u'ind_var18_0', u'ind_var19', u'ind_var20_0',\n",
      "       u'ind_var20', u'ind_var24_0', u'ind_var24', u'ind_var25_cte',\n",
      "       u'ind_var26_0', u'ind_var26_cte', u'ind_var25', u'ind_var30_0',\n",
      "       u'ind_var30', u'ind_var31_0', u'ind_var31', u'ind_var32_cte',\n",
      "       u'ind_var32', u'ind_var33_0', u'ind_var33', u'ind_var34',\n",
      "       u'ind_var37_cte', u'ind_var37', u'ind_var39_0', u'ind_var40_0',\n",
      "       u'ind_var41_0', u'ind_var39', u'ind_var44_0', u'ind_var44',\n",
      "       u'num_var1_0', u'num_var1', u'num_var4', u'num_var5_0', u'num_var5',\n",
      "       u'num_var8_0', u'num_var8', u'num_var12_0', u'num_var12',\n",
      "       u'num_var13_0', u'num_var13_corto_0', u'num_var13_corto',\n",
      "       u'num_var13_largo_0', u'num_var13_largo', u'num_var13_medio',\n",
      "       u'num_var13', u'num_var14_0', u'num_var14', u'num_var17_0'],\n",
      "      dtype='object')\n"
     ]
    }
   ],
   "source": [
    "print santrainder.columns[20:87]"
   ]
  },
  {
   "cell_type": "markdown",
   "metadata": {},
   "source": [
    "### varX (just varX, plain and simply)\n",
    "No prefix, no suffix, no other descriptors, they are **var3, var15, var36, and var38**. Which are contextually more interesting than the rest, I like to think, probably because they're less daunting somehow and I'm not afraid of them.\n",
    "\n",
    "var3 is nationality, var 15 is age, var36 is still up in the air, and var38 is possibly mortgage value"
   ]
  },
  {
   "cell_type": "markdown",
   "metadata": {},
   "source": [
    "#### var3 is nationality\n",
    "I don't actually understand why var3 is nationality, but it seems to be accepted in the forums. One user [commented](https://www.kaggle.com/c/santander-customer-satisfaction/forums/t/19367/var3/111169#post111169) that the distribution of categories/countries matches what they expect from a bank of this caliber. Each category from 1 to 238 represents a different country, with country 2 having the most customers represented in this data set."
   ]
  },
  {
   "cell_type": "code",
   "execution_count": 19,
   "metadata": {
    "collapsed": false
   },
   "outputs": [
    {
     "name": "stdout",
     "output_type": "stream",
     "text": [
      "count     76020.000000\n",
      "mean      -1523.199277\n",
      "std       39033.462364\n",
      "min     -999999.000000\n",
      "25%           2.000000\n",
      "50%           2.000000\n",
      "75%           2.000000\n",
      "max         238.000000\n",
      "Name: var3, dtype: float64\n"
     ]
    },
    {
     "data": {
      "text/plain": [
       " 2         74165\n",
       " 8           138\n",
       "-999999      116\n",
       " 9           110\n",
       " 3           108\n",
       " 1           105\n",
       " 13           98\n",
       " 7            97\n",
       " 4            86\n",
       " 12           85\n",
       " 6            82\n",
       " 0            75\n",
       " 10           72\n",
       " 11           66\n",
       " 5            63\n",
       " 14           61\n",
       " 15           34\n",
       " 18           10\n",
       " 16            9\n",
       " 17            7\n",
       "Name: var3, dtype: int64"
      ]
     },
     "execution_count": 19,
     "metadata": {},
     "output_type": "execute_result"
    }
   ],
   "source": [
    "print santrainder.var3.describe()\n",
    "santrainder.var3.value_counts()[0:20]"
   ]
  },
  {
   "cell_type": "markdown",
   "metadata": {},
   "source": [
    "var3 is entirely positive (as categorical variables are wont to be) save for the one hundred seventeen -999999s. These clearly represent errors or unknowns. We can either remove these entries or replace them with the mode and remember to do the same with the test data."
   ]
  },
  {
   "cell_type": "code",
   "execution_count": 20,
   "metadata": {
    "collapsed": true
   },
   "outputs": [],
   "source": [
    "# var3 error -999999, 117 of them\n",
    "# 117/77060 = 0.0015 (not even 1% of the entries)\n",
    "# drop as null or replace with mode (category 2)?\n",
    "santrainder = santrainder.replace(-999999,2) "
   ]
  },
  {
   "cell_type": "code",
   "execution_count": 40,
   "metadata": {
    "collapsed": false
   },
   "outputs": [
    {
     "data": {
      "image/png": "[encoded data removed]",
      "text/plain": [
       "<matplotlib.figure.Figure at 0x13360898>"
      ]
     },
     "metadata": {},
     "output_type": "display_data"
    }
   ],
   "source": [
    "# distribution\n",
    "santrainder.var3.hist(bins=100)\n",
    "plt.xlabel('nationality')\n",
    "plt.ylabel('number of customers')\n",
    "x1,x2,y1,y2 = plt.axis()\n",
    "plt.axis((x1,x2,0,250)) # country 2 is off the charts with this range\n",
    "plt.title('nationality')\n",
    "plt.show()"
   ]
  },
  {
   "cell_type": "markdown",
   "metadata": {},
   "source": [
    "#### var15 is age\n",
    "The histogram of var15 is pretty obviously age. Some kids have bank accounts apparently (it's possible!), and the spike for the 20-25 range coincides with [Santander having had a campaign targeted at university students](https://www.kaggle.com/c/santander-customer-satisfaction/forums/t/19291/data-dictionary/110414#post110414) some time ago."
   ]
  },
  {
   "cell_type": "code",
   "execution_count": 22,
   "metadata": {
    "collapsed": false
   },
   "outputs": [
    {
     "data": {
      "image/png": "[encoded data removed]",
      "text/plain": [
       "<matplotlib.figure.Figure at 0xeb32710>"
      ]
     },
     "metadata": {},
     "output_type": "display_data"
    }
   ],
   "source": [
    "# age distribution\n",
    "santrainder.var15.hist(bins=100)\n",
    "plt.xlabel('age')\n",
    "plt.ylabel('number of customers')\n",
    "plt.title('age')\n",
    "plt.show()"
   ]
  },
  {
   "cell_type": "markdown",
   "metadata": {},
   "source": [
    "#### var38 is either total asset worth or mortgage value\n",
    "The **mean of var38** is 117235.81, and [Spain's average mortgage was 118000 euros in 2011 and was 105000 in 2015.](https://www.kaggle.com/c/santander-customer-satisfaction/forums/t/19895/var38-is-mortgage-value)\n",
    "[Insert elaboration here. Looking for actual resources to back this up or disprove it but low priority as knowing isn't necessarily... necessary for modeling.]"
   ]
  },
  {
   "cell_type": "code",
   "execution_count": 23,
   "metadata": {
    "collapsed": false
   },
   "outputs": [
    {
     "data": {
      "text/plain": [
       "count    7.602000e+04\n",
       "mean     1.172358e+05\n",
       "std      1.826646e+05\n",
       "min      5.163750e+03\n",
       "25%      6.787061e+04\n",
       "50%      1.064092e+05\n",
       "75%      1.187563e+05\n",
       "max      2.203474e+07\n",
       "Name: var38, dtype: float64"
      ]
     },
     "execution_count": 23,
     "metadata": {},
     "output_type": "execute_result"
    }
   ],
   "source": [
    "# total asset worth or mortgage value\n",
    "santrainder.var38.describe()"
   ]
  },
  {
   "cell_type": "markdown",
   "metadata": {},
   "source": [
    "var38 also has a terrible distribution to look at, since there's a wide range of magnitude orders under this feature. Log scaling makes it easier on the eyes."
   ]
  },
  {
   "cell_type": "code",
   "execution_count": 24,
   "metadata": {
    "collapsed": false
   },
   "outputs": [
    {
     "data": {
      "image/png": "[encoded data removed]",
      "text/plain": [
       "<matplotlib.figure.Figure at 0x27007080>"
      ]
     },
     "metadata": {},
     "output_type": "display_data"
    }
   ],
   "source": [
    "# histogram of original var38\n",
    "santrainder.var38.hist(bins=1000);"
   ]
  },
  {
   "cell_type": "code",
   "execution_count": 25,
   "metadata": {
    "collapsed": false
   },
   "outputs": [
    {
     "data": {
      "text/plain": [
       "<matplotlib.axes._subplots.AxesSubplot at 0x27007898>"
      ]
     },
     "execution_count": 25,
     "metadata": {},
     "output_type": "execute_result"
    },
    {
     "data": {
      "image/png": "[encoded data removed]",
      "text/plain": [
       "<matplotlib.figure.Figure at 0x9f7bf98>"
      ]
     },
     "metadata": {},
     "output_type": "display_data"
    }
   ],
   "source": [
    "# wide range of magnitude orders => log scaling\n",
    "santrainder['var38_log'] = santrainder['var38'].map(np.log)\n",
    "santrainder.var38_log.hist(bins=100)"
   ]
  },
  {
   "cell_type": "code",
   "execution_count": 26,
   "metadata": {
    "collapsed": false
   },
   "outputs": [
    {
     "name": "stdout",
     "output_type": "stream",
     "text": [
      "0    117310.979016\n",
      "dtype: float64\n",
      "0    117310.979016\n",
      "dtype: float64\n"
     ]
    }
   ],
   "source": [
    "# What is that stark spike there?\n",
    "print np.exp(santrainder.var38_log.mode())\n",
    "print santrainder.var38.mode()"
   ]
  },
  {
   "cell_type": "code",
   "execution_count": 32,
   "metadata": {
    "collapsed": false
   },
   "outputs": [
    {
     "data": {
      "text/plain": [
       "117310.979016    14868\n",
       "451931.220000       16\n",
       "463625.160000       12\n",
       "288997.440000       11\n",
       "104563.800000       11\n",
       "Name: var38, dtype: int64"
      ]
     },
     "execution_count": 32,
     "metadata": {},
     "output_type": "execute_result"
    }
   ],
   "source": [
    "santrainder.var38.value_counts().nlargest(5)"
   ]
  },
  {
   "cell_type": "markdown",
   "metadata": {},
   "source": [
    "There... there are a lot of observations with 117310.979016. How do we deal with this?\n",
    "Let's look at the data without that number.\n",
    "[insert observations here]"
   ]
  },
  {
   "cell_type": "markdown",
   "metadata": {},
   "source": [
    "## 7. Feature Selection\n",
    "Something something I'm still working on this sorry."
   ]
  },
  {
   "cell_type": "markdown",
   "metadata": {},
   "source": [
    "Some graphical observations:"
   ]
  },
  {
   "cell_type": "code",
   "execution_count": 21,
   "metadata": {
    "collapsed": false
   },
   "outputs": [
    {
     "data": {
      "text/plain": [
       "<matplotlib.text.Text at 0xeb1cc50>"
      ]
     },
     "execution_count": 21,
     "metadata": {},
     "output_type": "execute_result"
    },
    {
     "data": {
      "image/png": "[encoded data removed]",
      "text/plain": [
       "<matplotlib.figure.Figure at 0x9fabd68>"
      ]
     },
     "metadata": {},
     "output_type": "display_data"
    }
   ],
   "source": [
    "# var3 kernel density estimation (probability density function) because histogram is weird\n",
    "sns.FacetGrid(santrainder, hue='TARGET', size=6) \\\n",
    "   .map(sns.kdeplot, 'var3') \\\n",
    "   .add_legend()\n",
    "plt.title('nationality');\n",
    "plt.xlabel('var3: nationality');\n",
    "# There might be something to living in a country in the category 110-140 range."
   ]
  },
  {
   "cell_type": "code",
   "execution_count": 29,
   "metadata": {
    "collapsed": false
   },
   "outputs": [
    {
     "data": {
      "image/png": "[encoded data removed]",
      "text/plain": [
       "<matplotlib.figure.Figure at 0x9fabda0>"
      ]
     },
     "metadata": {},
     "output_type": "display_data"
    }
   ],
   "source": [
    "# var15 (age), kernel density estimate plot because it's also easier to read than a histogram\n",
    "sns.FacetGrid(santrainder, hue='TARGET', size=6) \\\n",
    "   .map(sns.kdeplot, \"var15\") \\\n",
    "   .add_legend()\n",
    "plt.title('var15 (age) and TARGET');"
   ]
  },
  {
   "cell_type": "code",
   "execution_count": 30,
   "metadata": {
    "collapsed": false
   },
   "outputs": [
    {
     "data": {
      "image/png": "[encoded data removed]",
      "text/plain": [
       "<matplotlib.figure.Figure at 0x5842a4a8>"
      ]
     },
     "metadata": {},
     "output_type": "display_data"
    }
   ],
   "source": [
    "sns.FacetGrid(santrainder, hue='TARGET', size=6) \\\n",
    "   .map(plt.scatter, 'var3', 'var15', alpha = 0.2) \\\n",
    "   .add_legend()\n",
    "plt.title('var3 and var15: nationality and age');\n",
    "plt.xlabel('var3: nationality');\n",
    "plt.ylabel('var15: age');"
   ]
  },
  {
   "cell_type": "code",
   "execution_count": 34,
   "metadata": {
    "collapsed": false
   },
   "outputs": [
    {
     "data": {
      "image/png": "[encoded data removed]",
      "text/plain": [
       "<matplotlib.figure.Figure at 0x2d40b3c8>"
      ]
     },
     "metadata": {},
     "output_type": "display_data"
    }
   ],
   "source": [
    "sns.FacetGrid(santrainder, hue='TARGET', size=6) \\\n",
    "    .map(plt.scatter, 'var15', 'var38_log', alpha=0.4) \\\n",
    "    .add_legend()\n",
    "plt.xlabel('var15: age');\n",
    "plt.ylabel('var38_log: log-scaled asset/mortgage worth');"
   ]
  },
  {
   "cell_type": "code",
   "execution_count": 31,
   "metadata": {
    "collapsed": false
   },
   "outputs": [
    {
     "data": {
      "image/png": "[encoded data removed]",
      "text/plain": [
       "<matplotlib.figure.Figure at 0x29cd2780>"
      ]
     },
     "metadata": {},
     "output_type": "display_data"
    }
   ],
   "source": [
    "# I don't know what var36 is other than it's probably categorical\n",
    "# but there is some sort of relationship with TARGET\n",
    "sns.FacetGrid(santrainder, hue='TARGET', size=6) \\\n",
    "   .map(sns.kdeplot, 'var36') \\\n",
    "   .add_legend()\n",
    "plt.title('var36 (what is this even) and TARGET');"
   ]
  },
  {
   "cell_type": "code",
   "execution_count": 37,
   "metadata": {
    "collapsed": false
   },
   "outputs": [
    {
     "data": {
      "text/plain": [
       "<seaborn.axisgrid.FacetGrid at 0x161de1d0>"
      ]
     },
     "execution_count": 37,
     "metadata": {},
     "output_type": "execute_result"
    },
    {
     "data": {
      "image/png": "[encoded data removed]",
      "text/plain": [
       "<matplotlib.figure.Figure at 0x5b227d68>"
      ]
     },
     "metadata": {},
     "output_type": "display_data"
    }
   ],
   "source": [
    "sns.FacetGrid(santrainder, hue='TARGET', size=6) \\\n",
    "    .map(plt.hist, 'num_var4', bins=20) \\\n",
    "    .add_legend()"
   ]
  },
  {
   "cell_type": "code",
   "execution_count": 39,
   "metadata": {
    "collapsed": false
   },
   "outputs": [
    {
     "data": {
      "text/plain": [
       "<seaborn.axisgrid.FacetGrid at 0x1a189470>"
      ]
     },
     "execution_count": 39,
     "metadata": {},
     "output_type": "execute_result"
    },
    {
     "data": {
      "image/png": "[encoded data removed]",
      "text/plain": [
       "<matplotlib.figure.Figure at 0x14bd2cf8>"
      ]
     },
     "metadata": {},
     "output_type": "display_data"
    }
   ],
   "source": [
    "sns.FacetGrid(santrainder, hue='TARGET', size=6) \\\n",
    "    .map(plt.scatter, 'num_var4', 'var38_log', alpha = 0.2) \\\n",
    "    .add_legend()"
   ]
  },
  {
   "cell_type": "markdown",
   "metadata": {},
   "source": [
    "## 6. Modeling\n",
    "The response is a binary output, so it stands to reason that **logistic regression** is the most appropriate estimator to use."
   ]
  },
  {
   "cell_type": "markdown",
   "metadata": {},
   "source": []
  },
  {
   "cell_type": "code",
   "execution_count": null,
   "metadata": {
    "collapsed": true
   },
   "outputs": [],
   "source": [
    "feature_cols = []\n",
    "X = santrainder[feature_cols]\n",
    "y = "
   ]
  },
  {
   "cell_type": "markdown",
   "metadata": {},
   "source": [
    "## 7. Concluding Thoughts"
   ]
  },
  {
   "cell_type": "code",
   "execution_count": null,
   "metadata": {
    "collapsed": true
   },
   "outputs": [],
   "source": []
  }
 ],
 "metadata": {
  "kernelspec": {
   "display_name": "Python 2",
   "language": "python",
   "name": "python2"
  },
  "language_info": {
   "codemirror_mode": {
    "name": "ipython",
    "version": 2
   },
   "file_extension": ".py",
   "mimetype": "text/x-python",
   "name": "python",
   "nbconvert_exporter": "python",
   "pygments_lexer": "ipython2",
   "version": "2.7.11"
  }
 },
 "nbformat": 4,
 "nbformat_minor": 0
}
